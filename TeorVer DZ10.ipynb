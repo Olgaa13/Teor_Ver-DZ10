{
 "cells": [
  {
   "cell_type": "code",
   "execution_count": null,
   "id": "16ce6b45",
   "metadata": {},
   "outputs": [],
   "source": [
    "# Провести дисперсионный анализ для определения того, есть ли различия среднего роста среди взрослых футболистов,\n",
    "# хоккеистов и штангистов.\n",
    "# Даны значения роста в трех группах случайно выбранных спортсменов:\n",
    "# Футболисты: 173, 175, 180, 178, 177, 185, 183, 182.\n",
    "# Хоккеисты: 177, 179, 180, 188, 177, 172, 171, 184, 180.\n",
    "# Штангисты: 172, 173, 169, 177, 166, 180, 178, 177, 172, 166, 170."
   ]
  },
  {
   "cell_type": "code",
   "execution_count": 17,
   "id": "82eaf139",
   "metadata": {},
   "outputs": [],
   "source": [
    "import numpy as np\n",
    "from scipy import stats\n",
    "import matplotlib.pyplot as plt"
   ]
  },
  {
   "cell_type": "code",
   "execution_count": 18,
   "id": "53c428f2",
   "metadata": {},
   "outputs": [],
   "source": [
    "football = np.array([173, 175, 180, 178, 177, 185, 183, 182])\n",
    "hockey = np.array([177, 179, 180, 188, 177, 172, 171, 184, 180])\n",
    "weightlifting = np.array([172, 173, 169, 177, 166, 180, 178, 177, 172, 166, 170])"
   ]
  },
  {
   "cell_type": "code",
   "execution_count": 19,
   "id": "5ec96e1f",
   "metadata": {},
   "outputs": [],
   "source": [
    "n1 = football.shape[0]\n",
    "n2 = hockey.shape[0]\n",
    "n3 = weightlifting.shape[0]"
   ]
  },
  {
   "cell_type": "code",
   "execution_count": 24,
   "id": "3b19558f",
   "metadata": {},
   "outputs": [
    {
     "data": {
      "text/plain": [
       "179.125"
      ]
     },
     "execution_count": 24,
     "metadata": {},
     "output_type": "execute_result"
    }
   ],
   "source": [
    "football_mean = football.mean()\n",
    "football_mean #Среднее значение роста футболистов\n"
   ]
  },
  {
   "cell_type": "code",
   "execution_count": 26,
   "id": "684a757d",
   "metadata": {},
   "outputs": [
    {
     "data": {
      "text/plain": [
       "178.66666666666666"
      ]
     },
     "execution_count": 26,
     "metadata": {},
     "output_type": "execute_result"
    }
   ],
   "source": [
    "hockey_mean = hockey.mean()\n",
    "hockey_mean #Среднее значение роста хоккеистов"
   ]
  },
  {
   "cell_type": "code",
   "execution_count": 25,
   "id": "f8bdc4d9",
   "metadata": {},
   "outputs": [
    {
     "data": {
      "text/plain": [
       "172.72727272727272"
      ]
     },
     "execution_count": 25,
     "metadata": {},
     "output_type": "execute_result"
    }
   ],
   "source": [
    "weightlifting_mean = weightlifting.mean()\n",
    "weightlifting_mean #Среднее значение роста штангистов"
   ]
  },
  {
   "cell_type": "code",
   "execution_count": 34,
   "id": "6f6a106b",
   "metadata": {},
   "outputs": [
    {
     "data": {
      "text/plain": [
       "array([173, 175, 180, 178, 177, 185, 183, 182, 177, 179, 180, 188, 177,\n",
       "       172, 171, 184, 180, 172, 173, 169, 177, 166, 180, 178, 177, 172,\n",
       "       166, 170])"
      ]
     },
     "execution_count": 34,
     "metadata": {},
     "output_type": "execute_result"
    }
   ],
   "source": [
    "total = np.concatenate([football, hockey, weightlifting])\n",
    "total  "
   ]
  },
  {
   "cell_type": "code",
   "execution_count": 35,
   "id": "90e4f36e",
   "metadata": {},
   "outputs": [
    {
     "data": {
      "text/plain": [
       "176.46428571428572"
      ]
     },
     "execution_count": 35,
     "metadata": {},
     "output_type": "execute_result"
    }
   ],
   "source": [
    "y_mean_total = np.mean(total)\n",
    "y_mean_total #Среднее значение роста спортсменов"
   ]
  },
  {
   "cell_type": "code",
   "execution_count": 37,
   "id": "fdeaec55",
   "metadata": {},
   "outputs": [
    {
     "data": {
      "text/plain": [
       "253.9074675324678"
      ]
     },
     "execution_count": 37,
     "metadata": {},
     "output_type": "execute_result"
    }
   ],
   "source": [
    "S2_F = n1 * (football_mean - y_mean_total) ** 2 + n2 * (hockey_mean - y_mean_total) ** 2 + n3 * (weightlifting_mean - y_mean_total) ** 2\n",
    "S2_F #Сумма квадратов отклонений среди групповых значений от общего среднего"
   ]
  },
  {
   "cell_type": "code",
   "execution_count": 38,
   "id": "557c4409",
   "metadata": {},
   "outputs": [
    {
     "data": {
      "text/plain": [
       "577.0568181818182"
      ]
     },
     "execution_count": 38,
     "metadata": {},
     "output_type": "execute_result"
    }
   ],
   "source": [
    "S2_ost = ((football - football_mean) ** 2).sum() + ((hockey - hockey_mean) ** 2).sum() + ((weightlifting - weightlifting_mean) ** 2).sum()\n",
    "S2_ost #Остаточная сумма квадратов отклонений"
   ]
  },
  {
   "cell_type": "code",
   "execution_count": 39,
   "id": "b0e0f986",
   "metadata": {},
   "outputs": [
    {
     "data": {
      "text/plain": [
       "830.9642857142854"
      ]
     },
     "execution_count": 39,
     "metadata": {},
     "output_type": "execute_result"
    }
   ],
   "source": [
    "S2 = ((total - y_mean_total) ** 2).sum()\n",
    "S2 #Сумма квадратов отклонений наблюдений от общего среднего"
   ]
  },
  {
   "cell_type": "code",
   "execution_count": 41,
   "id": "3c71f9bc",
   "metadata": {},
   "outputs": [],
   "source": [
    "k = 3\n",
    "n = n1 + n2 + n3\n",
    "\n",
    "k1 = k - 1\n",
    "k2 = n - k\n",
    "\n"
   ]
  },
  {
   "cell_type": "code",
   "execution_count": 42,
   "id": "97b079ae",
   "metadata": {},
   "outputs": [
    {
     "data": {
      "text/plain": [
       "126.9537337662339"
      ]
     },
     "execution_count": 42,
     "metadata": {},
     "output_type": "execute_result"
    }
   ],
   "source": [
    "sigma2_F = S2_F / k1\n",
    "sigma2_F #Факторная дисперсия \n"
   ]
  },
  {
   "cell_type": "code",
   "execution_count": 43,
   "id": "14d1a3e2",
   "metadata": {},
   "outputs": [
    {
     "data": {
      "text/plain": [
       "23.08227272727273"
      ]
     },
     "execution_count": 43,
     "metadata": {},
     "output_type": "execute_result"
    }
   ],
   "source": [
    "sigma2_ost = S2_ost / k2\n",
    "sigma2_ost #Остаточная дисперсия"
   ]
  },
  {
   "cell_type": "code",
   "execution_count": 45,
   "id": "83a456d2",
   "metadata": {},
   "outputs": [
    {
     "data": {
      "text/plain": [
       "5.500053450812598"
      ]
     },
     "execution_count": 45,
     "metadata": {},
     "output_type": "execute_result"
    }
   ],
   "source": [
    "T = sigma2_F / sigma2_ost\n",
    "T #Значение статистики"
   ]
  },
  {
   "cell_type": "code",
   "execution_count": 46,
   "id": "8e598703",
   "metadata": {},
   "outputs": [
    {
     "data": {
      "text/plain": [
       "F_onewayResult(statistic=5.500053450812596, pvalue=0.010482206918698694)"
      ]
     },
     "execution_count": 46,
     "metadata": {},
     "output_type": "execute_result"
    }
   ],
   "source": [
    "f = stats.f_oneway(football, hockey, weightlifting)\n",
    "f"
   ]
  },
  {
   "cell_type": "code",
   "execution_count": 48,
   "id": "cec81eff",
   "metadata": {},
   "outputs": [
    {
     "data": {
      "text/plain": [
       "3.3851899614491687"
      ]
     },
     "execution_count": 48,
     "metadata": {},
     "output_type": "execute_result"
    }
   ],
   "source": [
    "alpha = 0.05\n",
    "F_crit = stats.f.ppf(1 - alpha, k1, k2)\n",
    "F_crit #Критическое значение"
   ]
  },
  {
   "cell_type": "code",
   "execution_count": null,
   "id": "027d76b9",
   "metadata": {},
   "outputs": [],
   "source": [
    "# Вывод: Мы видим, что функция показала pvalue=0.010482206918698694. Это значение меньше, чем альфа=0.05. \n",
    "# А когда pvalue < α, то делаем вывод в пользу альтернативной гипотезы. \n",
    "# Так как T(значение статистики) > F_crit(критического значения) делаем вывод, что отличие среднего роста спортсменов\n",
    "# является статистически значимым."
   ]
  }
 ],
 "metadata": {
  "kernelspec": {
   "display_name": "Python 3 (ipykernel)",
   "language": "python",
   "name": "python3"
  },
  "language_info": {
   "codemirror_mode": {
    "name": "ipython",
    "version": 3
   },
   "file_extension": ".py",
   "mimetype": "text/x-python",
   "name": "python",
   "nbconvert_exporter": "python",
   "pygments_lexer": "ipython3",
   "version": "3.9.13"
  }
 },
 "nbformat": 4,
 "nbformat_minor": 5
}
